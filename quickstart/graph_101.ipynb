{
 "cells": [
  {
   "cell_type": "markdown",
   "id": "6b2733de",
   "metadata": {},
   "source": [
    "[![Open In Colab](https://colab.research.google.com/assets/colab-badge.svg)](https://colab.research.google.com/github/B1AAB/GraphStudio/blob/main/quickstart/graph_101.ipynb)"
   ]
  },
  {
   "cell_type": "markdown",
   "id": "9ed3e340-17fd-4b71-a98e-c776aa45d053",
   "metadata": {},
   "source": [
    "# Get to Know Bitcoin Graph\n",
    "\n",
    "This notebook serves as a guided tour of the [Bitcoin Graph](https://registry.opendata.aws/eba) dataset. More usage examples, tutorials, and documentation for this dataset and others can be found at the [Registry of Open Data on AWS](https://registry.opendata.aws/).\n",
    "\n",
    "\n",
    "The Bitcoin Graph dataset provides a complete history of transactions \n",
    "from the Bitcoin blockchain, structured for machine learning. \n",
    "The [v1 release](https://eba.b1aab.ai/releases/data-release/v1) consists of \n",
    "over `2.4` billion nodes and `39.72` billion edges.\n",
    "\n",
    "\n",
    "Given the size of the graph, \n",
    "a common machine learning approach is to train models on sampled communities. \n",
    "To facilitate working with the graph, \n",
    "we have split the resources into the following steps \n",
    "(see [this page](https://eba.b1aab.ai/docs/bitcoin/overview) for details), \n",
    "which are ordered according to the [ETL pipeline](https://eba.b1aab.ai/docs/bitcoin/etl/overview).\n",
    "\n",
    "\n",
    "1.  Bitcoin Graph prepared for [Neo4j import](https://eba.b1aab.ai/docs/bitcoin/etl/import) \n",
    "    and its [ready-to-use database snapshot](https://eba.b1aab.ai/docs/bitcoin/etl/import#load) \n",
    "    (_hosted on Registry of Open Data on AWS_)\n",
    "\n",
    "2.  \"Hello-World\" [Sampled communities](https://www.kaggle.com/datasets/vjalili/bitcoin-graph-sampled-communities)\n",
    "\n",
    "3.  Develop and train a \n",
    "    [\"Hello-World\" script classification model](https://github.com/B1AAB/GraphStudio/tree/main/quickstart/script_classification) \n",
    "    on the sampled communities.\n",
    "\n",
    "4.  Evaluate the trained model (**the focus of this Notebook**)"
   ]
  },
  {
   "cell_type": "markdown",
   "id": "a3779654-eeee-4708-83cf-245e03303475",
   "metadata": {},
   "source": [
    "### Q: How have you organized your dataset? Help us understand the key prefix structure of your S3 bucket.\n",
    "\n",
    "Importing the Bitcoin Graph into a Neo4j database and sampling communities are \n",
    "both long-running and resource-intensive processes. \n",
    "For a quick start, we provide \"Hello-World\" sampled communities. \n",
    "However, we highly recommend importing the graph and using our tools to sample your own communities, \n",
    "as this allows you to tailor the data to your application's specific requirements. \n",
    "See [this page](https://eba.b1aab.ai/docs/bitcoin/overview) for details.\n",
    "\n",
    "\n",
    "Next, we will briefly review the directory structure of the Bitcoin Graph data \n",
    "hosted on the Registry of Open Data on AWS. \n",
    "The rest of this notebook will then walk through an evaluation of a \n",
    "[\"Hello World\" model](https://github.com/B1AAB/GraphStudio/tree/main/quickstart/script_classification), \n",
    "serving as a 101 introduction to the dataset. \n",
    "\n",
    "The Bitcoin Graph is provided in two formats: \n",
    "\n",
    "-   `/data_to_import_neo4j`:\n",
    "\n",
    "    This directory contains the graph formatted for \n",
    "    [Neo4j admin bulk import](https://neo4j.com/docs/operations-manual/current/import) tool. \n",
    "    See [this guide](https://eba.b1aab.ai/docs/bitcoin/etl/import) for instructions on how to import the data.\n",
    "\n",
    "    The data is provided as _headerless_ compressed TSV files, for efficient import into Neo4j. \n",
    "    The graph is organized as the following:\n",
    "\n",
    "    *   Edges are grouped into smaller, timestamped batches. \n",
    "        This design enables loading the data into applications that rely on in-memory processing.\n",
    "\n",
    "    *   Nodes (Script and Transaction) are provided in separate, \n",
    "        un-batched files that contain only unique nodes (`unique_` prefix). \n",
    "        Block nodes are provided in the `0_BitcoinGraph.tsv.gz` file.\n",
    "\n",
    "    *   Headers for each file type are stored in corresponding `*_header.tsv.gz` files.\n",
    "\n",
    "-   `/neo4j_db_dump`:\n",
    "\n",
    "    This directory contains a compressed, multi-part Neo4j database dump. \n",
    "    To use it, download all the files, decompress the archive, and follow the instructions on \n",
    "    [this page](https://eba.b1aab.ai/docs/bitcoin/etl/import#load)."
   ]
  },
  {
   "cell_type": "markdown",
   "id": "9f9038e7",
   "metadata": {},
   "source": [
    "### Q: What data formats are present in your dataset? What kinds of data are stored using these formats? Can you give any advice for how you work with these data formats?\n",
    "\n",
    "Data in the `data_to_import_neo4j` directory is stored in a compressed TSV format (`.tsv.gz`).\n",
    "\n",
    "Due to the heterogeneity of the Bitcoin graph, each edge type is stored in a separate file. \n",
    "For easier reference, the filename for each edge type follows a `[Source initial]2[Target initial]` pattern. \n",
    "For instance, the file `1737337696_BitcoinS2S.tsv.gz` belongs to batch `1737337696` and contains `script-to-script` edges. \n",
    "Alternatively, you can refer to the corresponding `*_header.tsv.gz` file for the headers."
   ]
  },
  {
   "cell_type": "markdown",
   "id": "dfeeb71e",
   "metadata": {},
   "source": [
    "### Q: What is one question that you have answered using these data? Can you show us how you came to that answer?\n",
    "\n",
    "Using the Bitcoin graph, you can model the behavior of entities in the context of their deep neighborhood. \n",
    "This enables machine learning models to distinguish entities by their behavioral patterns, \n",
    "largely independent of external data and with high certainty.\n",
    "\n",
    "\n",
    "The deeper the neighborhood is considered, and the more application-driven the neighborhood is sampled, \n",
    "the more accurate the entity characterization can be. \n",
    "For instance, assigning a trust score to a given Bitcoin address/wallet based on \n",
    "its trading pattern and the parties it has traded with.\n",
    "\n",
    "\n",
    "This 101 tutorial shows a generic approach for training a model to learn node \n",
    "(i.e., Bitcoin script/address) embeddings based on its neighborhood, \n",
    "and then clustering the nodes based on their learned embedding vectors. \n",
    "We train the model using generically sampled communities as a showcase. \n",
    "Both the sampling and the model can then be adapted to the specifics of your application."
   ]
  },
  {
   "cell_type": "markdown",
   "id": "4d8cbeea",
   "metadata": {},
   "source": [
    "### Setup\n",
    "\n"
   ]
  },
  {
   "cell_type": "markdown",
   "id": "5208aa99",
   "metadata": {},
   "source": [
    "#### Install Dependencies"
   ]
  },
  {
   "cell_type": "code",
   "execution_count": null,
   "id": "1facd084",
   "metadata": {},
   "outputs": [],
   "source": [
    "!mkdir -p /tmp/b1aab/graphstudio\n",
    "!git clone https://github.com/B1AAB/GraphStudio /tmp/b1aab/graphstudio\n",
    "\n",
    "!pip install -r /tmp/b1aab/graphstudio/quickstart/script_classification/requirements.txt\n",
    "!pip install -e /tmp/b1aab/graphstudio/quickstart/script_classification\n",
    "!pip install kagglehub\n",
    "!pip install gdown"
   ]
  },
  {
   "cell_type": "code",
   "execution_count": null,
   "id": "2a4b8202",
   "metadata": {},
   "outputs": [],
   "source": [
    "import os\n",
    "import sys\n",
    "pkg_path = '/tmp/b1aab/graphstudio/quickstart/script_classification'\n",
    "if pkg_path not in sys.path:\n",
    "    sys.path.insert(0, pkg_path)"
   ]
  },
  {
   "cell_type": "code",
   "execution_count": null,
   "id": "66fd7b83",
   "metadata": {},
   "outputs": [],
   "source": [
    "import os\n",
    "import torch\n",
    "import kagglehub\n",
    "from torch_geometric.loader import DataLoader\n",
    "import matplotlib.pyplot as plt\n",
    "import seaborn as sns\n",
    "import pandas as pd\n",
    "import umap\n",
    "from sklearn.cluster import KMeans\n",
    "from sklearn.metrics import silhouette_score\n",
    "from matplotlib.ticker import FuncFormatter\n",
    "import numpy as np\n",
    "import json\n",
    "import gdown\n",
    "import tempfile\n",
    "\n",
    "from script_classification.data_loader import BitcoinScriptsDataset\n",
    "from script_classification.models import GraphEncoder\n",
    "from script_classification.evaluation.embeddings import embed_roots\n",
    "from script_classification.evaluation.clustering import find_optimal_clusters_root, plot_find_optimal_clusters_root"
   ]
  },
  {
   "cell_type": "code",
   "execution_count": null,
   "id": "8f3e2627",
   "metadata": {},
   "outputs": [],
   "source": [
    "working_dir = tempfile.gettempdir()"
   ]
  },
  {
   "cell_type": "code",
   "execution_count": null,
   "id": "ab5f84e2",
   "metadata": {},
   "outputs": [],
   "source": [
    "sns.set_theme()"
   ]
  },
  {
   "cell_type": "code",
   "execution_count": null,
   "id": "36cbdd98",
   "metadata": {},
   "outputs": [],
   "source": [
    "SEED = 64\n",
    "device = torch.device(\"cuda\" if torch.cuda.is_available() else \"cpu\")\n",
    "print(f\"Using device: {device}\")"
   ]
  },
  {
   "cell_type": "markdown",
   "id": "74057afe",
   "metadata": {},
   "source": [
    "### Q: Can you show us an example of downloading and loading data from your dataset?\n",
    "\n",
    "As mentioned earlier, \n",
    "this tutorial uses pre-sampled communities from the Bitcoin graph, \n",
    "[available on Kaggle](https://www.kaggle.com/datasets/vjalili/bitcoin-graph-sampled-communities). \n",
    "\n",
    "These communities were sampled for demonstration purposes only, and \n",
    "_we suggest that you sample communities with characteristics that match your own application_ \n",
    "by downloading the graph hosted on AWS.\n",
    "Please see [this page](https://eba.b1aab.ai/docs/bitcoin/sampling/overview) for details. "
   ]
  },
  {
   "cell_type": "markdown",
   "id": "c355bc14",
   "metadata": {},
   "source": [
    "#### Download Sampled Communities from Kaggle"
   ]
  },
  {
   "cell_type": "code",
   "execution_count": null,
   "id": "175742ce",
   "metadata": {},
   "outputs": [],
   "source": [
    "kaggle_dataset_path = kagglehub.dataset_download(\"vjalili/bitcoin-graph-sampled-communities/version/1\")\n",
    "print(\"Path to dataset files:\", kaggle_dataset_path)\n",
    "data_root = os.path.join(kaggle_dataset_path, \"script_to_script_200k\")"
   ]
  },
  {
   "cell_type": "code",
   "execution_count": null,
   "id": "a6674860",
   "metadata": {},
   "outputs": [],
   "source": [
    "!mkdir -p /content/bitcoin_graph_sampled_communities/\n",
    "!mv $data_root /content/bitcoin_graph_sampled_communities/"
   ]
  },
  {
   "cell_type": "code",
   "execution_count": null,
   "id": "d6847e2e",
   "metadata": {},
   "outputs": [],
   "source": [
    "config = json.load(open(\"/tmp/b1aab/graphstudio/quickstart/script_classification/config.json\"))\n",
    "saves_root = config[\"saves_root\"]\n",
    "out_dim = config[\"out_dim\"]\n",
    "batch_size = config[\"batch_size\"]\n",
    "hidden_channels = config[\"hidden_channels\"]  # note that this has to be divisible by HEADS"
   ]
  },
  {
   "cell_type": "markdown",
   "id": "32a2131c",
   "metadata": {},
   "source": [
    "Downloading a trained model, so we do not run training. \n",
    "If interested in re-training the model, you may use \n",
    "[this notebook](https://github.com/B1AAB/GraphStudio/blob/main/quickstart/script_classification/train.ipynb)."
   ]
  },
  {
   "cell_type": "code",
   "execution_count": null,
   "id": "b27ecb5a",
   "metadata": {},
   "outputs": [],
   "source": [
    "model_save_path = os.path.join(working_dir, \"best_encoder.pth\")\n",
    "gdown.download(id=\"1c2lAdsbtEeuNBSUTUGpkGGSRqU0nBx__\", output=model_save_path, quiet=False)"
   ]
  },
  {
   "cell_type": "markdown",
   "id": "7eaf000c",
   "metadata": {},
   "source": [
    "Next we pre-process the \"raw\" sampled communities into a \n",
    "[PyG](https://github.com/pyg-team/pytorch_geometric) dataset. \n",
    "You may refer to the \n",
    "[data loader source code](https://github.com/B1AAB/GraphStudio/blob/main/quickstart/script_classification/script_classification/data_loader.py)\n",
    "for details.\n"
   ]
  },
  {
   "cell_type": "code",
   "execution_count": null,
   "id": "6d96fbf8",
   "metadata": {},
   "outputs": [],
   "source": [
    "data_root=\"/content/bitcoin_graph_sampled_communities/script_to_script_200k\"\n",
    "dataset = BitcoinScriptsDataset(root=data_root)\n",
    "EDGE_DIM = getattr(dataset, \"num_edge_features\", dataset[0].edge_attr.size(1))"
   ]
  },
  {
   "cell_type": "code",
   "execution_count": null,
   "id": "e8dcd902",
   "metadata": {},
   "outputs": [],
   "source": [
    "graph_id_to_idx_map = {data.graph_id: i for i, data in enumerate(dataset)}"
   ]
  },
  {
   "cell_type": "code",
   "execution_count": null,
   "id": "e99e931f",
   "metadata": {},
   "outputs": [],
   "source": [
    "n = len(dataset)\n",
    "n_train = int(0.7 * n)\n",
    "n_val   = int(0.15 * n)\n",
    "n_test  = n - n_train - n_val\n",
    "\n",
    "gen = torch.Generator().manual_seed(SEED)\n",
    "train_raw, val_dataset, test_dataset = torch.utils.data.random_split(\n",
    "    dataset, [n_train, n_val, n_test], generator=gen\n",
    ")"
   ]
  },
  {
   "cell_type": "code",
   "execution_count": null,
   "id": "9886ffc3",
   "metadata": {},
   "outputs": [],
   "source": [
    "test_loader = DataLoader(\n",
    "    test_dataset,\n",
    "    batch_size=batch_size,\n",
    "    shuffle=False,\n",
    "    pin_memory=True,\n",
    ")"
   ]
  },
  {
   "cell_type": "code",
   "execution_count": null,
   "id": "3a28dca0",
   "metadata": {},
   "outputs": [],
   "source": [
    "encoder = GraphEncoder(\n",
    "    in_channels=dataset.num_node_features,\n",
    "    hidden_channels=hidden_channels, \n",
    "    out_channels=out_dim,\n",
    "    edge_dim=EDGE_DIM\n",
    ").to(device)"
   ]
  },
  {
   "cell_type": "code",
   "execution_count": null,
   "id": "1bd7cff2",
   "metadata": {},
   "outputs": [],
   "source": [
    "ckpt = torch.load(model_save_path, map_location=device)\n",
    "encoder.load_state_dict(ckpt[\"model_state\"])\n",
    "\n",
    "embeddings_for_analysis = embed_roots(encoder, test_loader, device)"
   ]
  },
  {
   "cell_type": "code",
   "execution_count": null,
   "id": "90103d69",
   "metadata": {},
   "outputs": [],
   "source": [
    "optimal_k, inertias, silhouettes, k_range, best_silhouettes = find_optimal_clusters_root(embeddings_for_analysis, max_k=15, random_state=33)\n",
    "print(f\"Optimal number of clusters: {optimal_k}\")"
   ]
  },
  {
   "cell_type": "code",
   "execution_count": null,
   "id": "7c4586b9",
   "metadata": {},
   "outputs": [],
   "source": [
    "plot_find_optimal_clusters_root(optimal_k, inertias, silhouettes, k_range)"
   ]
  },
  {
   "cell_type": "code",
   "execution_count": null,
   "id": "3b2e5ad0",
   "metadata": {},
   "outputs": [],
   "source": [
    "def visualize_embeddings_umap(graph_embeddings, cluster_labels, title=\"Graph Embedding Clusters (UMAP)\", figsize=(5, 5)):\n",
    "    reducer = umap.UMAP(n_neighbors=15, min_dist=0.1, n_components=2, random_state=42, n_jobs=1)\n",
    "    embeddings_2d = reducer.fit_transform(graph_embeddings)\n",
    "\n",
    "    plt.figure(figsize=figsize)\n",
    "\n",
    "    scatter = sns.scatterplot(\n",
    "        x=embeddings_2d[:, 0],\n",
    "        y=embeddings_2d[:, 1],\n",
    "        hue=cluster_labels,\n",
    "        palette=\"tab20\",\n",
    "        legend=\"full\",\n",
    "        s=50,\n",
    "        alpha=0.8\n",
    "    )\n",
    "\n",
    "    plt.legend(title=\"Cluster ID\", loc=\"center left\", bbox_to_anchor=(1.02, 0.5), frameon=False)\n",
    "\n",
    "    scatter.set_title(title)\n",
    "    plt.xlabel(\"UMAP Component 1\")\n",
    "    plt.ylabel(\"UMAP Component 2\")\n",
    "    plt.show()"
   ]
  },
  {
   "cell_type": "code",
   "execution_count": null,
   "id": "12764355",
   "metadata": {},
   "outputs": [],
   "source": [
    "k_means = KMeans(n_clusters=optimal_k, random_state=11, n_init=10)\n",
    "final_clusters = k_means.fit_predict(embeddings_for_analysis)\n",
    "final_score = silhouette_score(embeddings_for_analysis, final_clusters, metric=\"cosine\")\n",
    "\n",
    "print(f\"Final Silhouette (cosine) with K={optimal_k}: {final_score:.4f}\")"
   ]
  },
  {
   "cell_type": "markdown",
   "id": "30f81d0e",
   "metadata": {},
   "source": [
    "### Q: A picture is worth a thousand words. Show us a visual (or several!) from your dataset that either illustrates something informative about your dataset, or that you think might excite someone to dig in further.\n",
    "\n",
    "Next, we'll visualize the dataset by clustering the embeddings that were generated for the root node of each neighborhood."
   ]
  },
  {
   "cell_type": "code",
   "execution_count": null,
   "id": "2a2eb3c4",
   "metadata": {},
   "outputs": [],
   "source": [
    "visualize_embeddings_umap(embeddings_for_analysis, final_clusters, title=f\"Root Clusters (K={optimal_k})\")"
   ]
  },
  {
   "cell_type": "markdown",
   "id": "0b6093e7",
   "metadata": {},
   "source": [
    "## Comparing Communities by Graph-Level Features\n",
    "\n",
    "You may also characterize the sampled communities using their graph-level features. \n",
    "These include statistics that summarize the entire sampled subgraph, \n",
    "such as the average block height or BTC value calculated per hop from the community's root node.\n",
    "\n",
    "However, it is crucial to understand a key distinction when using these for evaluation.\n",
    "\n",
    "The model we trained here performs node-level representation learning. \n",
    "It is designed to generate a feature vector (an embedding) \n",
    "for the root node of each sampled community, based on its neighborhood. \n",
    "In contrast, the statistics described above are graph-level \n",
    "features that describe the entire community.\n",
    "\n",
    "Therefore, clustering the root node embeddings and then evaluating \n",
    "those clusters based on graph-level features is a methodological mismatch,\n",
    "and can lead to misleading conclusions.\n",
    "\n",
    "For such a comparison to be valid, \n",
    "the model must be adapted for graph-level representation learning. \n",
    "This typically involves adding a readout or pooling function \n",
    "(e.g., global mean pooling) after the GNN layers \n",
    "to aggregate all node embeddings into a single embedding for the entire graph\n",
    "(or other methods)."
   ]
  },
  {
   "cell_type": "code",
   "execution_count": null,
   "id": "625275cf",
   "metadata": {},
   "outputs": [],
   "source": [
    "def format_block_height_axis(ax):\n",
    "    formatter = FuncFormatter(lambda x, pos: f'{x / 1000:.0f}k')\n",
    "    ax.xaxis.set_major_formatter(formatter)"
   ]
  },
  {
   "cell_type": "code",
   "execution_count": null,
   "id": "ea97a4ff",
   "metadata": {},
   "outputs": [],
   "source": [
    "def prepare_stats_for_plotting(stats_list, graph_ids):\n",
    "    plot_data = []\n",
    "    for i, stats_dict in enumerate(stats_list):\n",
    "        graph_id = graph_ids[i]\n",
    "        for hop_level, hop_stats in stats_dict.items():\n",
    "            hop_transition_key = f\"hop{hop_level}->hop{hop_level+1}\"\n",
    "            \n",
    "            if \"Value_avg\" in hop_stats:\n",
    "                plot_data.append({\n",
    "                    \"graph_id\": graph_id,\n",
    "                    \"hop_transition\": hop_transition_key,\n",
    "                    \"avg_value\": hop_stats[\"Value_avg\"],\n",
    "                    \"metric_type\": \"Avg Value\"\n",
    "                })\n",
    "            if \"BlockHeight_avg\" in hop_stats:\n",
    "                plot_data.append({\n",
    "                    \"graph_id\": graph_id,\n",
    "                    \"hop_transition\": hop_transition_key,\n",
    "                    \"avg_block_height\": hop_stats[\"BlockHeight_avg\"],\n",
    "                    \"metric_type\": \"Avg BlockHeight\"\n",
    "                })                \n",
    "            if \"OriginalInDegree_avg\" in hop_stats:\n",
    "                plot_data.append({\n",
    "                    \"graph_id\": graph_id,\n",
    "                    \"hop_transition\": hop_transition_key,\n",
    "                    \"avg_original_in_degree\": hop_stats[\"OriginalInDegree_avg\"],\n",
    "                    \"metric_type\": \"Avg Original In-Degree\"\n",
    "                })\n",
    "            if \"OriginalOutDegree_avg\" in hop_stats:\n",
    "                plot_data.append({\n",
    "                    \"graph_id\": graph_id,\n",
    "                    \"hop_transition\": hop_transition_key,\n",
    "                    \"avg_original_out_degree\": hop_stats[\"OriginalOutDegree_avg\"],\n",
    "                    \"metric_type\": \"Avg Original Out-Degree\"\n",
    "                })\n",
    "                \n",
    "    return pd.DataFrame(plot_data)"
   ]
  },
  {
   "cell_type": "code",
   "execution_count": null,
   "id": "31f401ff",
   "metadata": {},
   "outputs": [],
   "source": [
    "def compare_graph_stats(stats_list, graph_ids):\n",
    "    df = prepare_stats_for_plotting(stats_list, graph_ids)\n",
    "    hop_order = sorted(df[\"hop_transition\"].dropna().unique(), key=lambda x: int(x.split(\"->\")[0][3:]))\n",
    "    color_palette = sns.color_palette(\"viridis\", len(graph_ids))\n",
    "\n",
    "    fig, axes = plt.subplots(1, 4, figsize=(18, 4), sharey=True)\n",
    "\n",
    "    ax1 = axes[0]\n",
    "    ax2 = axes[1]\n",
    "    ax3 = axes[2]\n",
    "    ax4 = axes[3]\n",
    "\n",
    "    sns.barplot(data=df[df[\"metric_type\"] == \"Avg Value\"], \n",
    "                y=\"hop_transition\", x=\"avg_value\", hue=\"graph_id\", \n",
    "                ax=ax1, order=hop_order, orient=\"h\", palette=color_palette)\n",
    "    ax1.set_title(\"Avg. Tx Value by Hop\")\n",
    "    ax1.set_xlabel(\"Average Value (Log10 BTC)\")\n",
    "    ax1.set_ylabel(\"Hop Transition\")\n",
    "    ax1.set_xscale(\"log\")\n",
    "    ax1.get_legend().remove()\n",
    "\n",
    "    sns.barplot(data=df[df[\"metric_type\"] == \"Avg BlockHeight\"], \n",
    "                y=\"hop_transition\", x=\"avg_block_height\", hue=\"graph_id\", \n",
    "                ax=ax2, order=hop_order, orient=\"h\", palette=color_palette)\n",
    "    ax2.set_title(\"Avg. Block Height by Hop\")\n",
    "    ax2.set_xlabel(\"Average Block Height\")\n",
    "    ax2.set_ylabel(\"\")\n",
    "    ax2.get_legend().remove()\n",
    "    format_block_height_axis(ax2)\n",
    "    \n",
    "    sns.barplot(data=df[df[\"metric_type\"] == \"Avg Original In-Degree\"], \n",
    "                y=\"hop_transition\", x=\"avg_original_in_degree\", hue=\"graph_id\", \n",
    "                ax=ax3, order=hop_order, orient=\"h\", palette=color_palette)\n",
    "    ax3.set_title(\"Avg. Original In-Degree by Hop\")\n",
    "    ax3.set_xlabel(\"Average Original In-Degree\")\n",
    "    ax3.set_ylabel(\"\")\n",
    "    ax3.get_legend().remove()\n",
    "\n",
    "    sns.barplot(data=df[df[\"metric_type\"] == \"Avg Original Out-Degree\"], \n",
    "                y=\"hop_transition\", x=\"avg_original_out_degree\", hue=\"graph_id\", \n",
    "                ax=ax4, order=hop_order, orient=\"h\", palette=color_palette)\n",
    "    ax4.set_title(\"Avg. Original Out-Degree by Hop\")\n",
    "    ax4.set_xlabel(\"Average Original Out-Degree\")\n",
    "    ax4.set_ylabel(\"\")\n",
    "    ax4.get_legend().remove()\n",
    "\n",
    "    plt.tight_layout(rect=[0, 0, 1, 0.95])\n",
    "    plt.show()"
   ]
  },
  {
   "cell_type": "code",
   "execution_count": null,
   "id": "1b9c3080",
   "metadata": {},
   "outputs": [],
   "source": [
    "def get_graphs_from_cluster(target_cluster_id, all_cluster_labels, dataset):\n",
    "    indices = np.where(all_cluster_labels == target_cluster_id)[0]\n",
    "    \n",
    "    if len(indices) == 0:\n",
    "        print(f\"No graphs found for cluster ID {target_cluster_id}.\")\n",
    "        return []\n",
    "        \n",
    "    graphs = [dataset[i] for i in indices]\n",
    "    return graphs"
   ]
  },
  {
   "cell_type": "code",
   "execution_count": null,
   "id": "fc4c7472",
   "metadata": {},
   "outputs": [],
   "source": [
    "a_g_id = get_graphs_from_cluster(1, final_clusters, test_dataset)[0].graph_id\n",
    "b_g_id = get_graphs_from_cluster(1, final_clusters, test_dataset)[1].graph_id\n",
    "compare_graph_stats([dataset.per_graph_stats[a_g_id], dataset.per_graph_stats[b_g_id]], [a_g_id, b_g_id])"
   ]
  },
  {
   "cell_type": "markdown",
   "id": "cf645724-3108-4ada-a832-10b3431eb8e2",
   "metadata": {},
   "source": [
    "### Q: What is one unanswered question that you think could be answered using these data? Do you have any recommendations or advice for someone wanting to answer this question?\n",
    "\n",
    "The model evaluated here is for demonstration purposes only, \n",
    "using communities that were also sampled for demonstration. \n",
    "This tutorial illustrates what the data looks like and provides an example of how to work with it. \n",
    "This is critical given the heterogeneity and scale of the data, \n",
    "the complex ETL pipeline involved, \n",
    "and the breadth of potential applications, \n",
    "each of which demands a well-tailored solution.\n",
    "\n",
    "\n",
    "The dataset spans more than 16 years of Bitcoin transactions. \n",
    "During this time, every aspect of the data has evolved, \n",
    "making the temporal dimension essential. \n",
    "Additionally, various on-chain interaction patterns are captured in this graph dataset. \n",
    "Our manuscript provides a detailed statistical profile of the blockchain and its graph characteristics. \n",
    "We suggest using this information to sample communities that specifically match your application and evaluate the results accordingly.\n",
    "\n",
    "\n",
    "For instance, \n",
    "an application studying how funds are transferred between scripts 2-hops away from the Coinbase node \n",
    "(involving mostly miners) \n",
    "will differ from one studying communities at least 5-hops away \n",
    "(representing mostly user trades). \n",
    "To investigate such specific questions, \n",
    "you will need to sample your own communities by first downloading the graph from AWS \n",
    "and then running sampling algorithms with your own configurations.\n",
    "\n",
    "\n",
    "On [this page](https://github.com/B1AAB/GraphStudio), \n",
    "we provide general recommendations for designing applications with this dataset."
   ]
  }
 ],
 "metadata": {
  "kernelspec": {
   "display_name": ".venv",
   "language": "python",
   "name": "python3"
  },
  "language_info": {
   "codemirror_mode": {
    "name": "ipython",
    "version": 3
   },
   "file_extension": ".py",
   "mimetype": "text/x-python",
   "name": "python",
   "nbconvert_exporter": "python",
   "pygments_lexer": "ipython3",
   "version": "3.12.3"
  }
 },
 "nbformat": 4,
 "nbformat_minor": 5
}
