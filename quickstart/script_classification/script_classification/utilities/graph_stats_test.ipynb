{
 "cells": [
  {
   "cell_type": "code",
   "execution_count": null,
   "id": "b1736794",
   "metadata": {},
   "outputs": [],
   "source": [
    "import os\n",
    "import sys\n",
    "\n",
    "project_root = os.path.abspath(os.path.join(os.getcwd(), \"..\"))\n",
    "if project_root not in sys.path:\n",
    "    sys.path.insert(0, project_root)\n",
    "\n",
    "from utilities.graph_stats import *"
   ]
  },
  {
   "cell_type": "code",
   "execution_count": 2,
   "id": "d2d43abb",
   "metadata": {},
   "outputs": [],
   "source": [
    "%load_ext autoreload\n",
    "%autoreload 2"
   ]
  },
  {
   "cell_type": "code",
   "execution_count": 20,
   "id": "787ec299",
   "metadata": {},
   "outputs": [],
   "source": [
    "def test_directed_graph_stats():\n",
    "    edge_index = torch.tensor([\n",
    "        [0, 1], [0, 2],        # hop0 -> hop1\n",
    "        [1, 3], [1, 4], [2, 5] # hop1 -> hop2\n",
    "    ], dtype=torch.long).T\n",
    "\n",
    "    edge_attr = torch.tensor([\n",
    "        # [Value, BlockHeight]\n",
    "        [10, 80], [20, 81],              # for 0 -> 1 edges\n",
    "        [100, 90], [200, 91], [300, 92]  # for 1 -> 2 edges\n",
    "    ], dtype=torch.float)\n",
    "\n",
    "    expected_root = 0\n",
    "    expected_hop_counts = {1: 2, 2: 3}\n",
    "    expected_edge_stats = {\n",
    "        \"hop0 -> hop1\": {\n",
    "            \"Value\": {\"min\": 10.0, \"max\": 20.0, \"mean\": 15.0, \"count\": 2},\n",
    "            \"BlockHeight\": {\"min\": 80.0, \"max\": 81.0, \"mean\": 80.5, \"count\": 2},\n",
    "        },\n",
    "        \"hop1 -> hop2\": {\n",
    "            \"Value\": {\"min\": 100.0, \"max\": 300.0, \"mean\": 200.0, \"count\": 3},\n",
    "            \"BlockHeight\": {\"min\": 90.0, \"max\": 92.0, \"mean\": 91.0, \"count\": 3},\n",
    "        },\n",
    "    }\n",
    "\n",
    "    stats = get_graph_stats(edge_index, edge_attr, root_node=0)\n",
    "\n",
    "    assert stats[\"root_node_index\"] == expected_root, \"Incorrect root node!\"\n",
    "    assert stats[\"hop_counts\"] == expected_hop_counts, \"Incorrect hop counts!\"\n",
    "    assert stats[\"edge_hop_stats\"] == expected_edge_stats, \"Incorrect edge stats!\""
   ]
  },
  {
   "cell_type": "code",
   "execution_count": 22,
   "id": "07254216",
   "metadata": {},
   "outputs": [],
   "source": [
    "test_directed_graph_stats()"
   ]
  }
 ],
 "metadata": {
  "kernelspec": {
   "display_name": ".venvWSL",
   "language": "python",
   "name": "python3"
  },
  "language_info": {
   "codemirror_mode": {
    "name": "ipython",
    "version": 3
   },
   "file_extension": ".py",
   "mimetype": "text/x-python",
   "name": "python",
   "nbconvert_exporter": "python",
   "pygments_lexer": "ipython3",
   "version": "3.12.3"
  }
 },
 "nbformat": 4,
 "nbformat_minor": 5
}
