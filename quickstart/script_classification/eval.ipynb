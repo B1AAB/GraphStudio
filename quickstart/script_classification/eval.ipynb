{
 "cells": [
  {
   "cell_type": "code",
   "execution_count": null,
   "id": "037bb87e",
   "metadata": {},
   "outputs": [],
   "source": [
    "%load_ext autoreload\n",
    "%autoreload 2"
   ]
  },
  {
   "cell_type": "code",
   "execution_count": null,
   "id": "e09e31a4",
   "metadata": {},
   "outputs": [],
   "source": [
    "import os\n",
    "import torch\n",
    "import sys\n",
    "from torch_geometric.loader import DataLoader\n",
    "import matplotlib.pyplot as plt\n",
    "import seaborn as sns\n",
    "import pandas as pd\n",
    "import umap\n",
    "from sklearn.cluster import KMeans\n",
    "from sklearn.metrics import silhouette_score\n",
    "from matplotlib.ticker import FuncFormatter\n",
    "import numpy as np\n",
    "import json\n",
    "\n",
    "project_root = os.path.abspath(os.path.join(os.getcwd(), \"..\"))\n",
    "if project_root not in sys.path: \n",
    "    sys.path.insert(0, project_root)\n",
    "\n",
    "from script_classification.utilities.graph_stats import *\n",
    "from script_classification.data_loader import BitcoinScriptsDataset\n",
    "from script_classification.models import GraphEncoder\n",
    "from script_classification.engine import *\n",
    "from script_classification.losses import *\n",
    "from script_classification.utilities.graph_ops import *\n",
    "from script_classification.evaluation.metrics import *\n",
    "from script_classification.evaluation.embeddings import *\n",
    "from script_classification.evaluation.clustering import *\n"
   ]
  },
  {
   "cell_type": "code",
   "execution_count": null,
   "id": "ee71c42b",
   "metadata": {},
   "outputs": [],
   "source": [
    "sns.set_theme()"
   ]
  },
  {
   "cell_type": "code",
   "execution_count": null,
   "id": "5d6e42e3",
   "metadata": {},
   "outputs": [],
   "source": [
    "SEED = 64\n",
    "device = torch.device(\"cuda\" if torch.cuda.is_available() else \"cpu\")"
   ]
  },
  {
   "cell_type": "code",
   "execution_count": null,
   "id": "7de2e553",
   "metadata": {},
   "outputs": [],
   "source": [
    "config = json.load(open(\"config.json\"))\n",
    "data_root = config[\"data_root\"]\n",
    "saves_root = config[\"saves_root\"]\n",
    "out_dim = config[\"out_dim\"]\n",
    "batch_size = config[\"batch_size\"]\n",
    "hidden_channels = config[\"hidden_channels\"]  # note that this has to be divisible by HEADS\n",
    "model_save_path = os.path.join(saves_root, config[\"model_save_filename\"])"
   ]
  },
  {
   "cell_type": "code",
   "execution_count": null,
   "id": "3a3b10a3",
   "metadata": {},
   "outputs": [],
   "source": [
    "dataset = BitcoinScriptsDataset(root=data_root)\n",
    "EDGE_DIM = getattr(dataset, \"num_edge_features\", dataset[0].edge_attr.size(1))"
   ]
  },
  {
   "cell_type": "code",
   "execution_count": null,
   "id": "69c72ed6",
   "metadata": {},
   "outputs": [],
   "source": [
    "graph_id_to_idx_map = {data.graph_id: i for i, data in enumerate(dataset)}"
   ]
  },
  {
   "cell_type": "code",
   "execution_count": null,
   "id": "c1d71b2f",
   "metadata": {},
   "outputs": [],
   "source": [
    "n = len(dataset)\n",
    "n_train = int(0.7 * n)\n",
    "n_val   = int(0.15 * n)\n",
    "n_test  = n - n_train - n_val\n",
    "\n",
    "gen = torch.Generator().manual_seed(SEED)\n",
    "train_raw, val_dataset, test_dataset = torch.utils.data.random_split(\n",
    "    dataset, [n_train, n_val, n_test], generator=gen\n",
    ")"
   ]
  },
  {
   "cell_type": "code",
   "execution_count": null,
   "id": "09037afb",
   "metadata": {},
   "outputs": [],
   "source": [
    "test_loader = DataLoader(\n",
    "    test_dataset,\n",
    "    batch_size=batch_size,\n",
    "    shuffle=False,\n",
    "    pin_memory=True,\n",
    ")"
   ]
  },
  {
   "cell_type": "code",
   "execution_count": null,
   "id": "78411133",
   "metadata": {},
   "outputs": [],
   "source": [
    "encoder = GraphEncoder(\n",
    "    in_channels=dataset.num_node_features,\n",
    "    hidden_channels=hidden_channels, \n",
    "    out_channels=out_dim,\n",
    "    edge_dim=EDGE_DIM\n",
    ").to(device)"
   ]
  },
  {
   "cell_type": "code",
   "execution_count": null,
   "id": "cb41abbf",
   "metadata": {},
   "outputs": [],
   "source": [
    "ckpt = torch.load(model_save_path, map_location=device)\n",
    "encoder.load_state_dict(ckpt[\"model_state\"])\n",
    "\n",
    "embeddings_for_analysis = embed_roots(encoder, test_loader, device)"
   ]
  },
  {
   "cell_type": "code",
   "execution_count": null,
   "id": "a47f5143",
   "metadata": {},
   "outputs": [],
   "source": [
    "optimal_k, inertias, silhouettes, k_range, best_silhouettes = find_optimal_clusters_root(embeddings_for_analysis, max_k=15, random_state=33)\n",
    "print(f\"Optimal number of clusters: {optimal_k}\")"
   ]
  },
  {
   "cell_type": "code",
   "execution_count": null,
   "id": "b99fbf28",
   "metadata": {},
   "outputs": [],
   "source": [
    "plot_find_optimal_clusters_root(optimal_k, inertias, silhouettes, k_range)"
   ]
  },
  {
   "cell_type": "code",
   "execution_count": null,
   "id": "9628fa47",
   "metadata": {},
   "outputs": [],
   "source": [
    "def visualize_embeddings_umap(graph_embeddings, cluster_labels, title=\"Graph Embedding Clusters (UMAP)\", figsize=(5, 5)):\n",
    "    reducer = umap.UMAP(n_neighbors=15, min_dist=0.1, n_components=2, random_state=42, n_jobs=1)\n",
    "    embeddings_2d = reducer.fit_transform(graph_embeddings)\n",
    "\n",
    "    plt.figure(figsize=figsize)\n",
    "\n",
    "    scatter = sns.scatterplot(\n",
    "        x=embeddings_2d[:, 0],\n",
    "        y=embeddings_2d[:, 1],\n",
    "        hue=cluster_labels,\n",
    "        palette=\"tab20\",\n",
    "        legend=\"full\",\n",
    "        s=50,\n",
    "        alpha=0.8\n",
    "    )\n",
    "\n",
    "    plt.legend(title=\"Cluster ID\", loc=\"center left\", bbox_to_anchor=(1.02, 0.5), frameon=False)\n",
    "\n",
    "    scatter.set_title(title)\n",
    "    plt.xlabel(\"UMAP Component 1\")\n",
    "    plt.ylabel(\"UMAP Component 2\")\n",
    "    plt.show()"
   ]
  },
  {
   "cell_type": "code",
   "execution_count": null,
   "id": "6ba20baf",
   "metadata": {},
   "outputs": [],
   "source": [
    "k_means = KMeans(n_clusters=optimal_k, random_state=11, n_init=10)\n",
    "final_clusters = k_means.fit_predict(embeddings_for_analysis)\n",
    "final_score = silhouette_score(embeddings_for_analysis, final_clusters, metric=\"cosine\")\n",
    "\n",
    "print(f\"Final Silhouette (cosine) with K={optimal_k}: {final_score:.4f}\")"
   ]
  },
  {
   "cell_type": "code",
   "execution_count": null,
   "id": "6047fbb0",
   "metadata": {},
   "outputs": [],
   "source": [
    "visualize_embeddings_umap(embeddings_for_analysis, final_clusters, title=f\"Root Clusters (K={optimal_k})\")"
   ]
  },
  {
   "cell_type": "markdown",
   "id": "c892ff81",
   "metadata": {},
   "source": [
    "## Compare Clusters with External Labels\n",
    "\n",
    "One of the publicly available sources for labeled Bitcoin addresses is \n",
    "[WalletExplorer](https://www.walletexplorer.com). \n",
    "To help explore our graph's clusters, we provide the WalletExplorer \n",
    "labels and the code used to process them.\n",
    "For convenience, we offer several resources:\n",
    "\n",
    "- Complete raw data retrieved from WalletExplorer.\n",
    "- Pre-filtered version of the labels containing only addresses \n",
    "  that are present in the sampled communities. \n",
    "  This is the file used in this notebook.\n",
    "- The scripts used to both retrieve and filter the data.\n",
    "\n",
    "The notebook loads these pre-filtered labels. \n",
    "It then uses the assigned categories from WalletExplorer \n",
    "(e.g., exchange, service, mining pool) \n",
    "to color-code the embeddings of the root nodes in the visualization. "
   ]
  },
  {
   "cell_type": "code",
   "execution_count": null,
   "id": "a06b5dcc",
   "metadata": {},
   "outputs": [],
   "source": [
    "wallet_explorer_clusters_wallet_label = []\n",
    "wallet_explorer_clusters_wallet_category = []\n",
    "for graph in test_dataset:\n",
    "    graph_dir = os.path.join(data_root, \"raw\", graph.graph_id)\n",
    "    \n",
    "    root_node_idx = pd.read_csv(os.path.join(graph_dir, \"metadata.tsv\"), sep=\"\\t\")[\"RootNodeIdx\"][0]\n",
    "    graph_w_wallet_explorer_labels = pd.read_csv(os.path.join(graph_dir, \"BitcoinScriptNode_Annotated.tsv\"), sep=\"\\t\")\n",
    "    \n",
    "    root_node = graph_w_wallet_explorer_labels.iloc[root_node_idx]\n",
    "\n",
    "    wallet_explorer_clusters_wallet_label.append(root_node[\"WalletExplorer_WalletLabel\"])    \n",
    "    wallet_explorer_clusters_wallet_category.append(root_node[\"WalletExplorer_Category\"])"
   ]
  },
  {
   "cell_type": "code",
   "execution_count": null,
   "id": "8229be9c",
   "metadata": {},
   "outputs": [],
   "source": [
    "def visualize_umap_multiple_label_groups(graph_embeddings, graph_cluster_labels, wallet_explorer_wallet_labels, wallet_explorer_category_labels):\n",
    "    fig, axes = plt.subplots(1, 3, figsize=(18, 6), sharey=True)\n",
    "    \n",
    "    reducer = umap.UMAP(n_neighbors=15, min_dist=0.1, n_components=2, random_state=42, n_jobs=1)\n",
    "    embeddings_2d = reducer.fit_transform(graph_embeddings)\n",
    "\n",
    "    args = {\n",
    "        \"x\": embeddings_2d[:, 0],\n",
    "        \"y\": embeddings_2d[:, 1],\n",
    "        \"palette\": \"tab10\",\n",
    "        \"legend\": \"full\",\n",
    "        \"s\": 50,\n",
    "        \"alpha\": 0.8\n",
    "    }\n",
    "\n",
    "    sns.scatterplot(**args, hue=graph_cluster_labels, ax=axes[0])\n",
    "    sns.scatterplot(**args, hue=wallet_explorer_wallet_labels, ax=axes[1])\n",
    "    sns.scatterplot(**args, hue=wallet_explorer_category_labels, ax=axes[2])\n",
    "\n",
    "    axes[0].set_title('Graph Cluster Labels')\n",
    "    axes[1].set_title('WalletExplorer Wallet Labels')\n",
    "    axes[2].set_title('WalletExplorer Category Labels')\n",
    "\n",
    "    axes[0].set_xlabel('UMAP 1')\n",
    "    axes[0].set_ylabel('UMAP 2')\n",
    "    axes[1].set_xlabel('UMAP 2')\n",
    "    axes[2].set_xlabel('UMAP 2')\n",
    "\n",
    "    for ax in axes:\n",
    "        ax.legend(loc='upper center', bbox_to_anchor=(0.5, -0.15), ncol=3, frameon=False)\n",
    "    \n",
    "    plt.subplots_adjust(wspace=0.05)\n",
    "    plt.show()"
   ]
  },
  {
   "cell_type": "code",
   "execution_count": null,
   "id": "cce565e2",
   "metadata": {},
   "outputs": [],
   "source": [
    "visualize_umap_multiple_label_groups(embeddings_for_analysis, final_clusters, wallet_explorer_clusters_wallet_label, wallet_explorer_clusters_wallet_category)"
   ]
  },
  {
   "cell_type": "markdown",
   "id": "5bbd6419",
   "metadata": {},
   "source": [
    "## Comparing Communities by Graph-Level Features\n",
    "\n",
    "You may also characterize the sampled communities using their graph-level features. \n",
    "These include statistics that summarize the entire sampled subgraph, \n",
    "such as the average block height or BTC value calculated per hop from the community's root node.\n",
    "\n",
    "However, it is crucial to understand a key distinction when using these for evaluation.\n",
    "\n",
    "The model we trained here performs node-level representation learning. \n",
    "It is designed to generate a feature vector (an embedding) \n",
    "for the root node of each sampled community, based on its neighborhood. \n",
    "In contrast, the statistics described above are graph-level \n",
    "features that describe the entire community.\n",
    "\n",
    "Therefore, clustering the root node embeddings and then evaluating \n",
    "those clusters based on graph-level features is a methodological mismatch,\n",
    "and can lead to misleading conclusions.\n",
    "\n",
    "For such a comparison to be valid, \n",
    "the model must be adapted for graph-level representation learning. \n",
    "This typically involves adding a readout or pooling function \n",
    "(e.g., global mean pooling) after the GNN layers \n",
    "to aggregate all node embeddings into a single embedding for the entire graph\n",
    "(or other methods)."
   ]
  },
  {
   "cell_type": "code",
   "execution_count": null,
   "id": "60ccfdf5",
   "metadata": {},
   "outputs": [],
   "source": [
    "def format_block_height_axis(ax):\n",
    "    formatter = FuncFormatter(lambda x, pos: f'{x / 1000:.0f}k')\n",
    "    ax.xaxis.set_major_formatter(formatter)"
   ]
  },
  {
   "cell_type": "code",
   "execution_count": null,
   "id": "90610eed",
   "metadata": {},
   "outputs": [],
   "source": [
    "def prepare_stats_for_plotting(stats_list, graph_ids):\n",
    "    plot_data = []\n",
    "    for i, stats_dict in enumerate(stats_list):\n",
    "        graph_id = graph_ids[i]\n",
    "        for hop_level, hop_stats in stats_dict.items():\n",
    "            hop_transition_key = f\"hop{hop_level}->hop{hop_level+1}\"\n",
    "            \n",
    "            if \"Value_avg\" in hop_stats:\n",
    "                plot_data.append({\n",
    "                    \"graph_id\": graph_id,\n",
    "                    \"hop_transition\": hop_transition_key,\n",
    "                    \"avg_value\": hop_stats[\"Value_avg\"],\n",
    "                    \"metric_type\": \"Avg Value\"\n",
    "                })\n",
    "            if \"BlockHeight_avg\" in hop_stats:\n",
    "                plot_data.append({\n",
    "                    \"graph_id\": graph_id,\n",
    "                    \"hop_transition\": hop_transition_key,\n",
    "                    \"avg_block_height\": hop_stats[\"BlockHeight_avg\"],\n",
    "                    \"metric_type\": \"Avg BlockHeight\"\n",
    "                })                \n",
    "            if \"OriginalInDegree_avg\" in hop_stats:\n",
    "                plot_data.append({\n",
    "                    \"graph_id\": graph_id,\n",
    "                    \"hop_transition\": hop_transition_key,\n",
    "                    \"avg_original_in_degree\": hop_stats[\"OriginalInDegree_avg\"],\n",
    "                    \"metric_type\": \"Avg Original In-Degree\"\n",
    "                })\n",
    "            if \"OriginalOutDegree_avg\" in hop_stats:\n",
    "                plot_data.append({\n",
    "                    \"graph_id\": graph_id,\n",
    "                    \"hop_transition\": hop_transition_key,\n",
    "                    \"avg_original_out_degree\": hop_stats[\"OriginalOutDegree_avg\"],\n",
    "                    \"metric_type\": \"Avg Original Out-Degree\"\n",
    "                })\n",
    "                \n",
    "    return pd.DataFrame(plot_data)"
   ]
  },
  {
   "cell_type": "code",
   "execution_count": null,
   "id": "e02da3d9",
   "metadata": {},
   "outputs": [],
   "source": [
    "def compare_graph_stats(stats_list, graph_ids):\n",
    "    df = prepare_stats_for_plotting(stats_list, graph_ids)\n",
    "    hop_order = sorted(df[\"hop_transition\"].dropna().unique(), key=lambda x: int(x.split(\"->\")[0][3:]))\n",
    "    color_palette = sns.color_palette(\"viridis\", len(graph_ids))\n",
    "\n",
    "    fig, axes = plt.subplots(1, 4, figsize=(18, 4), sharey=True)\n",
    "\n",
    "    ax1 = axes[0]\n",
    "    ax2 = axes[1]\n",
    "    ax3 = axes[2]\n",
    "    ax4 = axes[3]\n",
    "\n",
    "    sns.barplot(data=df[df[\"metric_type\"] == \"Avg Value\"], \n",
    "                y=\"hop_transition\", x=\"avg_value\", hue=\"graph_id\", \n",
    "                ax=ax1, order=hop_order, orient=\"h\", palette=color_palette)\n",
    "    ax1.set_title(\"Avg. Tx Value by Hop\")\n",
    "    ax1.set_xlabel(\"Average Value (Log10 BTC)\")\n",
    "    ax1.set_ylabel(\"Hop Transition\")\n",
    "    ax1.set_xscale(\"log\")\n",
    "    ax1.get_legend().remove()\n",
    "\n",
    "    sns.barplot(data=df[df[\"metric_type\"] == \"Avg BlockHeight\"], \n",
    "                y=\"hop_transition\", x=\"avg_block_height\", hue=\"graph_id\", \n",
    "                ax=ax2, order=hop_order, orient=\"h\", palette=color_palette)\n",
    "    ax2.set_title(\"Avg. Block Height by Hop\")\n",
    "    ax2.set_xlabel(\"Average Block Height\")\n",
    "    ax2.set_ylabel(\"\")\n",
    "    ax2.get_legend().remove()\n",
    "    format_block_height_axis(ax2)\n",
    "    \n",
    "    sns.barplot(data=df[df[\"metric_type\"] == \"Avg Original In-Degree\"], \n",
    "                y=\"hop_transition\", x=\"avg_original_in_degree\", hue=\"graph_id\", \n",
    "                ax=ax3, order=hop_order, orient=\"h\", palette=color_palette)\n",
    "    ax3.set_title(\"Avg. Original In-Degree by Hop\")\n",
    "    ax3.set_xlabel(\"Average Original In-Degree\")\n",
    "    ax3.set_ylabel(\"\")\n",
    "    ax3.get_legend().remove()\n",
    "\n",
    "    sns.barplot(data=df[df[\"metric_type\"] == \"Avg Original Out-Degree\"], \n",
    "                y=\"hop_transition\", x=\"avg_original_out_degree\", hue=\"graph_id\", \n",
    "                ax=ax4, order=hop_order, orient=\"h\", palette=color_palette)\n",
    "    ax4.set_title(\"Avg. Original Out-Degree by Hop\")\n",
    "    ax4.set_xlabel(\"Average Original Out-Degree\")\n",
    "    ax4.set_ylabel(\"\")\n",
    "    ax4.get_legend().remove()\n",
    "\n",
    "    plt.tight_layout(rect=[0, 0, 1, 0.95])\n",
    "    plt.show()"
   ]
  },
  {
   "cell_type": "code",
   "execution_count": null,
   "id": "a6dc75c4",
   "metadata": {},
   "outputs": [],
   "source": [
    "def get_graphs_from_cluster(target_cluster_id, all_cluster_labels, dataset):\n",
    "    indices = np.where(all_cluster_labels == target_cluster_id)[0]\n",
    "    \n",
    "    if len(indices) == 0:\n",
    "        print(f\"No graphs found for cluster ID {target_cluster_id}.\")\n",
    "        return []\n",
    "        \n",
    "    graphs = [dataset[i] for i in indices]\n",
    "    return graphs"
   ]
  },
  {
   "cell_type": "code",
   "execution_count": null,
   "id": "3460e065",
   "metadata": {},
   "outputs": [],
   "source": [
    "a_g_id = get_graphs_from_cluster(1, final_clusters, test_dataset)[0].graph_id\n",
    "b_g_id = get_graphs_from_cluster(1, final_clusters, test_dataset)[1].graph_id\n",
    "compare_graph_stats([dataset.per_graph_stats[a_g_id], dataset.per_graph_stats[b_g_id]], [a_g_id, b_g_id])"
   ]
  }
 ],
 "metadata": {
  "kernelspec": {
   "display_name": ".venv",
   "language": "python",
   "name": "python3"
  },
  "language_info": {
   "codemirror_mode": {
    "name": "ipython",
    "version": 3
   },
   "file_extension": ".py",
   "mimetype": "text/x-python",
   "name": "python",
   "nbconvert_exporter": "python",
   "pygments_lexer": "ipython3",
   "version": "3.12.3"
  }
 },
 "nbformat": 4,
 "nbformat_minor": 5
}
