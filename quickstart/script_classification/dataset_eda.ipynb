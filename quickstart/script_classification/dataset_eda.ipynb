{
 "cells": [
  {
   "cell_type": "markdown",
   "id": "6197be62",
   "metadata": {},
   "source": [
    "This notebook provides tools for profiling on dataset and augmentation method."
   ]
  },
  {
   "cell_type": "code",
   "execution_count": null,
   "id": "9ec97f28",
   "metadata": {},
   "outputs": [],
   "source": [
    "%load_ext autoreload\n",
    "%autoreload 2"
   ]
  },
  {
   "cell_type": "code",
   "execution_count": null,
   "id": "3c1e7c01",
   "metadata": {},
   "outputs": [],
   "source": [
    "# !pip install -r requirements.txt"
   ]
  },
  {
   "cell_type": "code",
   "execution_count": null,
   "id": "c83c764a",
   "metadata": {},
   "outputs": [],
   "source": [
    "import math\n",
    "import numpy as np\n",
    "import pandas as pd\n",
    "import torch\n",
    "import matplotlib.pyplot as plt\n",
    "from torch_geometric.data import Data\n",
    "import seaborn as sns\n",
    "from pprint import pprint\n",
    "import json\n",
    "\n",
    "from script_classification.data_loader import BitcoinScriptsDataset\n",
    "from script_classification.view_augmenter import ViewAugmenter"
   ]
  },
  {
   "cell_type": "code",
   "execution_count": null,
   "id": "04e1f6ec",
   "metadata": {},
   "outputs": [],
   "source": [
    "sns.set_theme()"
   ]
  },
  {
   "cell_type": "code",
   "execution_count": null,
   "id": "3453e890",
   "metadata": {},
   "outputs": [],
   "source": [
    "device = torch.device(\"cuda\" if torch.cuda.is_available() else \"cpu\")\n",
    "print(f\"Using device: {device}\")"
   ]
  },
  {
   "cell_type": "code",
   "execution_count": null,
   "id": "9dafe01e",
   "metadata": {},
   "outputs": [],
   "source": [
    "config = json.load(open(\"script_classification/config.json\"))\n",
    "data_root = config[\"data_root\"]"
   ]
  },
  {
   "cell_type": "code",
   "execution_count": null,
   "id": "9384878d",
   "metadata": {},
   "outputs": [],
   "source": [
    "dataset = BitcoinScriptsDataset(root=data_root)\n",
    "\n",
    "graph_id_to_idx_map = {}\n",
    "for i in range(len(dataset)):\n",
    "    d = dataset.get(i)\n",
    "    gid = d.graph_id\n",
    "    try:\n",
    "        key = gid\n",
    "        graph_id_to_idx_map[key] = i\n",
    "    except TypeError:\n",
    "        graph_id_to_idx_map[str(gid)] = i"
   ]
  },
  {
   "cell_type": "code",
   "execution_count": null,
   "id": "76e59ec8",
   "metadata": {},
   "outputs": [],
   "source": [
    "print(\"Node features:\")\n",
    "pprint(dataset.node_feature_names)\n",
    "\n",
    "print(\"\\nEdge features:\")\n",
    "pprint(dataset.edge_feature_names)"
   ]
  },
  {
   "cell_type": "code",
   "execution_count": null,
   "id": "49fa1376",
   "metadata": {},
   "outputs": [],
   "source": [
    "sample_idx = 0\n",
    "# sample_idx = graph_id_to_idx_map[\"202508171811176566\"]"
   ]
  },
  {
   "cell_type": "code",
   "execution_count": null,
   "id": "59aa8efd",
   "metadata": {},
   "outputs": [],
   "source": [
    "data = dataset.get(sample_idx)\n",
    "print(f\"graph_id:\\t{getattr(data, 'graph_id', sample_idx)}\")\n",
    "print(f\"Node count:\\t{data.num_nodes}\")\n",
    "print(f\"Edge count:\\t{data.edge_index.size(1)}\")"
   ]
  },
  {
   "cell_type": "code",
   "execution_count": null,
   "id": "6bcd648e",
   "metadata": {},
   "outputs": [],
   "source": [
    "data_dev = data.to(device)"
   ]
  },
  {
   "cell_type": "code",
   "execution_count": null,
   "id": "6ee8b6d4",
   "metadata": {},
   "outputs": [],
   "source": [
    "augmenter = ViewAugmenter(\n",
    "    block_height_col=1,\n",
    "    block_height_scale_range=(0.99, 1.01),\n",
    "    block_height_shift_range=(-3.0, 3.0),\n",
    "    degree_cols=(2, 3),\n",
    "    degree_jitter=0.05,\n",
    "    value_col=0,\n",
    "    value_jitter=0.05 # +/-25% jitter\n",
    ").to(device)"
   ]
  },
  {
   "cell_type": "code",
   "execution_count": null,
   "id": "67eb3c3d",
   "metadata": {},
   "outputs": [],
   "source": [
    "augmenter.eval()\n",
    "with torch.no_grad():\n",
    "    v1, v2 = augmenter(data_dev)"
   ]
  },
  {
   "cell_type": "code",
   "execution_count": null,
   "id": "dc533e2c",
   "metadata": {},
   "outputs": [],
   "source": [
    "# move to CPU numpy for plotting\n",
    "def to_np(t):\n",
    "    return t.detach().cpu().numpy() if torch.is_tensor(t) else np.asarray(t)"
   ]
  },
  {
   "cell_type": "code",
   "execution_count": null,
   "id": "458cbf76",
   "metadata": {},
   "outputs": [],
   "source": [
    "x_original = to_np(data.x)\n",
    "x_aug_v1 = to_np(v1.x)\n",
    "x_aug_v2 = to_np(v2.x)\n",
    "edge_attribute_original = to_np(data.edge_attr) if getattr(data, \"edge_attr\", None) is not None else None\n",
    "edge_attribute_aug_v1  = to_np(v1.edge_attr) if getattr(v1, \"edge_attr\", None) is not None else None\n",
    "edge_attribute_aug_v2  = to_np(v2.edge_attr) if getattr(v2, \"edge_attr\", None) is not None else None"
   ]
  },
  {
   "cell_type": "code",
   "execution_count": null,
   "id": "77c174e9",
   "metadata": {},
   "outputs": [],
   "source": [
    "def plot_histogram(ax, original_values, v1_values, v2_values, x_label):\n",
    "    ax.hist(original_values, density=True, alpha=0.5, label=\"Original\")\n",
    "    ax.hist(v1_values, density=True, alpha=0.5, label=\"Augmented V1\")\n",
    "    ax.hist(v2_values, density=True, alpha=0.5, label=\"Augmented V2\")\n",
    "    ax.set_xlabel(x_label)\n",
    "    ax.set_ylabel(\"Density\")\n",
    "    # ax.legend(loc='upper center', bbox_to_anchor=(0.5, -0.15), ncol=3, frameon=False)"
   ]
  },
  {
   "cell_type": "code",
   "execution_count": null,
   "id": "dc4e062d",
   "metadata": {},
   "outputs": [],
   "source": [
    "fig, axes = plt.subplots(1, 2, figsize=(15, 4))\n",
    "axes = axes.ravel()\n",
    "\n",
    "plot_histogram(\n",
    "    axes[0], \n",
    "    edge_attribute_original[:, 0], edge_attribute_aug_v1[:, 0], edge_attribute_aug_v2[:, 0], \n",
    "    dataset.edge_feature_names[0]\n",
    ")\n",
    "\n",
    "plot_histogram(\n",
    "    axes[1], \n",
    "    edge_attribute_original[:, 1], edge_attribute_aug_v1[:, 1], edge_attribute_aug_v2[:, 1], \n",
    "    dataset.edge_feature_names[1]\n",
    ")\n",
    "\n",
    "handles, labels = axes[0].get_legend_handles_labels()\n",
    "fig.legend(handles, labels, loc=\"upper center\", bbox_to_anchor=(0.5, -0.02), ncol=3, frameon=False)\n",
    "fig.subplots_adjust(bottom=0.15)\n",
    "plt.show()"
   ]
  },
  {
   "cell_type": "code",
   "execution_count": null,
   "id": "d46ce651",
   "metadata": {},
   "outputs": [],
   "source": [
    "cols = x_original.shape[1]\n",
    "cols_count = min(3, cols)\n",
    "rows_count = math.ceil(cols / cols_count)\n",
    "fig, axes = plt.subplots(rows_count, cols_count, figsize=(5*cols_count, 3*rows_count), squeeze=False)\n",
    "for j in range(cols):\n",
    "    r, c = divmod(j, cols_count)\n",
    "    name = dataset.node_feature_names[j] if j < len(dataset.node_feature_names) else f\"node_feat_{j}\"\n",
    "    plot_histogram(axes[r][c], x_original[:, j], x_aug_v1[:, j], x_aug_v2[:, j], f\"Node: {name}\")\n",
    "for k in range(cols, rows_count*cols_count):\n",
    "    r, c = divmod(k, cols_count)\n",
    "    axes[r][c].axis(\"off\")\n",
    "\n",
    "handles, labels = axes[0][0].get_legend_handles_labels()\n",
    "fig.legend(handles, labels, loc=\"upper center\", bbox_to_anchor=(0.5, -0.02), ncol=3, frameon=False)\n",
    "fig.subplots_adjust(bottom=0.15)\n",
    "plt.tight_layout()\n",
    "plt.show()"
   ]
  }
 ],
 "metadata": {
  "kernelspec": {
   "display_name": ".venv",
   "language": "python",
   "name": "python3"
  },
  "language_info": {
   "codemirror_mode": {
    "name": "ipython",
    "version": 3
   },
   "file_extension": ".py",
   "mimetype": "text/x-python",
   "name": "python",
   "nbconvert_exporter": "python",
   "pygments_lexer": "ipython3",
   "version": "3.12.3"
  }
 },
 "nbformat": 4,
 "nbformat_minor": 5
}
