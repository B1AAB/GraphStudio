{
 "cells": [
  {
   "cell_type": "code",
   "execution_count": null,
   "id": "48d23862",
   "metadata": {},
   "outputs": [],
   "source": [
    "import os\n",
    "import gzip\n",
    "from tqdm.notebook import tqdm\n",
    "import numpy as np\n",
    "import pandas as pd\n",
    "import json\n",
    "import dataclasses\n",
    "import gdown\n",
    "from pathlib import Path"
   ]
  },
  {
   "cell_type": "code",
   "execution_count": null,
   "id": "a13d7bf7",
   "metadata": {},
   "outputs": [],
   "source": [
    "# Directory containing the sampled communities downloaded from Kaggle. \n",
    "# TODO: Change this to your local path.\n",
    "raw_sampled_communities_dir = f\"{os.path.expanduser('~')}/eba_sampled_g/s2s_200k/raw\"\n",
    "raw_sampled_communities_dir = os.path.abspath(raw_sampled_communities_dir)"
   ]
  },
  {
   "cell_type": "code",
   "execution_count": null,
   "id": "ab93226b",
   "metadata": {},
   "outputs": [],
   "source": [
    "# Directory containing the crawled WalletExplorer data obtained by running step_1_crawl_walletexplorer_data.ipynb \n",
    "# TODO: Change this to your local path.\n",
    "wallet_explorer_crawled_dir = f\"{os.path.expanduser('~')}/eba_graph_studio/walletexplorer/crawled/\"\n",
    "wallet_explorer_crawled_dir = os.path.abspath(wallet_explorer_crawled_dir)\n",
    "os.makedirs(wallet_explorer_crawled_dir, exist_ok=True)\n",
    "\n",
    "# ** Note **\n",
    "# If the above directory does not exist or does not contain the needed data, the following step will download the data first.\n",
    "wallet_addresses_file_path = os.path.join(wallet_explorer_crawled_dir, \"wallet_addresses.tsv.gz\")\n",
    "if not os.path.isfile(wallet_addresses_file_path):\n",
    "    gdown.download(\"https://drive.google.com/uc?id=17QuNTq2vBL3U0CyVu40nhCmEGPKT4yC4\", wallet_addresses_file_path, quiet=False)\n",
    "\n",
    "wallet_by_category_file_path = os.path.join(wallet_explorer_crawled_dir, \"extended_wallets_by_category.json\")\n",
    "if not os.path.isfile(wallet_by_category_file_path):\n",
    "    gdown.download(\"https://drive.google.com/uc?id=1a5_xSsIm6zX_07MpQYQaNq12M504Vo5z\", wallet_by_category_file_path, quiet=False)"
   ]
  },
  {
   "cell_type": "code",
   "execution_count": null,
   "id": "e292dcd9",
   "metadata": {},
   "outputs": [],
   "source": [
    "addresses = {}\n",
    "with gzip.open(wallet_addresses_file_path, \"rt\") as f:\n",
    "    for line in tqdm(f, desc=\"Reading wallet addresses\"):\n",
    "        address, wallet = line.strip().split(\"\\t\")\n",
    "        addresses[address] = wallet"
   ]
  },
  {
   "cell_type": "code",
   "execution_count": null,
   "id": "40722192",
   "metadata": {},
   "outputs": [],
   "source": [
    "wallets_categories = json.load(open(wallet_by_category_file_path))"
   ]
  },
  {
   "cell_type": "code",
   "execution_count": null,
   "id": "4a803911",
   "metadata": {},
   "outputs": [],
   "source": [
    "@dataclasses.dataclass\n",
    "class Wallet:\n",
    "    label: str\n",
    "    address_count: str\n",
    "    category: str"
   ]
  },
  {
   "cell_type": "code",
   "execution_count": null,
   "id": "11c99b62",
   "metadata": {},
   "outputs": [],
   "source": [
    "wallets = {}\n",
    "for category, original_wallets in wallets_categories.items():\n",
    "    for wallet in original_wallets:\n",
    "        wallets[wallet[\"id\"]] = Wallet(\n",
    "            label=wallet[\"label\"],\n",
    "            address_count=wallet[\"address_count\"],\n",
    "            category=category\n",
    "        )"
   ]
  },
  {
   "cell_type": "code",
   "execution_count": null,
   "id": "bde86544",
   "metadata": {},
   "outputs": [],
   "source": [
    "graphs = pd.read_csv(os.path.join(raw_sampled_communities_dir, \"metadata.tsv\"), sep=\"\\t\")\n",
    "graph_ids = graphs[\"GraphID\"].to_list()"
   ]
  },
  {
   "cell_type": "code",
   "execution_count": null,
   "id": "e84a29ca",
   "metadata": {},
   "outputs": [],
   "source": [
    "def get_wallet_details(address):\n",
    "    wallet_id = addresses.get(address)\n",
    "    \n",
    "    if wallet_id:\n",
    "        wallet_info = wallets.get(wallet_id)\n",
    "        if wallet_info:\n",
    "            return (wallet_id, wallet_info.label, wallet_info.category)\n",
    "\n",
    "    return (np.nan, np.nan, np.nan)"
   ]
  },
  {
   "cell_type": "code",
   "execution_count": null,
   "id": "0df98332",
   "metadata": {},
   "outputs": [],
   "source": [
    "for graph_id in tqdm(graph_ids):\n",
    "    input_filename = os.path.join(raw_sampled_communities_dir, str(graph_id), \"BitcoinScriptNode.tsv\")\n",
    "    if not os.path.isfile(input_filename):\n",
    "        print(f\"File not found: {input_filename}, skipping.\")\n",
    "        continue\n",
    "    \n",
    "    script_nodes_df = pd.read_csv(input_filename, sep=\"\\t\")\n",
    "    mapped_tuples = script_nodes_df[\"Address\"].map(lambda addr: get_wallet_details(addr))\n",
    "\n",
    "    script_nodes_df[[\"WalletExplorer_WalletID\", \"WalletExplorer_WalletLabel\", \"WalletExplorer_Category\"]] = pd.DataFrame(\n",
    "        mapped_tuples.tolist(), index=script_nodes_df.index\n",
    "    )\n",
    "\n",
    "    # script_nodes_df.fillna(\"Unknown\", inplace=True)\n",
    "\n",
    "    script_nodes_df.to_csv(os.path.join(raw_sampled_communities_dir, str(graph_id), \"BitcoinScriptNode_Annotated.tsv\"), sep=\"\\t\", index=False)"
   ]
  }
 ],
 "metadata": {
  "kernelspec": {
   "display_name": ".venv",
   "language": "python",
   "name": "python3"
  },
  "language_info": {
   "codemirror_mode": {
    "name": "ipython",
    "version": 3
   },
   "file_extension": ".py",
   "mimetype": "text/x-python",
   "name": "python",
   "nbconvert_exporter": "python",
   "pygments_lexer": "ipython3",
   "version": "3.12.3"
  }
 },
 "nbformat": 4,
 "nbformat_minor": 5
}
