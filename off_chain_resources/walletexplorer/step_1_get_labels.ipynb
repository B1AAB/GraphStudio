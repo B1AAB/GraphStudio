{
 "cells": [
  {
   "cell_type": "markdown",
   "id": "53e31460",
   "metadata": {},
   "source": [
    "This notebook crawls WalletExplorer.com to download Bitcoin wallet data, \n",
    "such as identified wallets, their labels (if they belong to known entities), \n",
    "and their associated addresses.\n",
    "\n",
    "\n",
    "The process involves two steps: \n",
    "first, getting the list of labeled Bitcoin wallets (those with known associated entities), and \n",
    "second, getting their associated addresses. \n",
    "\n",
    "\n",
    "After contacting the author of WalletExplorer.com, \n",
    "he confirmed that only the wallets listed on the landing page have labels."
   ]
  },
  {
   "cell_type": "markdown",
   "id": "c682b004",
   "metadata": {},
   "source": [
    "## This is a long-running task & you do not need to rerun it\n",
    "\n",
    "This crawling task can take several days to complete, \n",
    "depending on your internet connection and the responsiveness of WalletExplorer.com.\n",
    "\n",
    "\n",
    "However, since WalletExplorer's data is not updated frequently, \n",
    "we provide the output of this task; \n",
    "hence, you do not need to re-run this step and can use the pre-computed data directly.\n",
    "\n",
    "Links to download are provided in `step_2_*.ipynb`."
   ]
  },
  {
   "cell_type": "code",
   "execution_count": null,
   "id": "9e6fc6d0",
   "metadata": {},
   "outputs": [],
   "source": [
    "# !pip install -r requirements.txt"
   ]
  },
  {
   "cell_type": "code",
   "execution_count": null,
   "id": "739fe813",
   "metadata": {},
   "outputs": [],
   "source": [
    "import requests\n",
    "import tqdm\n",
    "from bs4 import BeautifulSoup\n",
    "import os\n",
    "import json\n",
    "import dataclasses\n",
    "from tqdm.notebook import tqdm"
   ]
  },
  {
   "cell_type": "code",
   "execution_count": null,
   "id": "b8232588",
   "metadata": {},
   "outputs": [],
   "source": [
    "output_path = \"./walletexplorer_data\"\n",
    "os.makedirs(output_path)"
   ]
  },
  {
   "cell_type": "code",
   "execution_count": null,
   "id": "f2a46487",
   "metadata": {},
   "outputs": [],
   "source": [
    "# get html content of the landing page\n",
    "target_url = \"https://www.walletexplorer.com\"\n",
    "headers = {\"User-Agent\": \"Mozilla/5.0 (Windows NT 10.0; Win64; x64) AppleWebKit/537.36 (KHTML, like Gecko) Chrome/91.0.4472.124 Safari/537.36\"}\n",
    "\n",
    "response = requests.get(target_url, headers=headers, timeout=10)\n",
    "response.raise_for_status()\n",
    "html_content = response.text"
   ]
  },
  {
   "cell_type": "code",
   "execution_count": null,
   "id": "c80122df",
   "metadata": {},
   "outputs": [],
   "source": [
    "# parse the HTML content\n",
    "wallet_data = {}\n",
    "\n",
    "soup = BeautifulSoup(html_content, \"lxml\")\n",
    "services_table = soup.find(\"table\", class_=\"serviceslist\")\n",
    "categories = services_table.find_all(\"td\")\n",
    "\n",
    "for category_td in categories:\n",
    "    category_header = category_td.find(\"h3\")\n",
    "    if not category_header:\n",
    "        continue\n",
    "    \n",
    "    category_name = category_header.get_text(strip=True).rstrip(\":\")\n",
    "    links = category_td.find_all(\"a\")\n",
    "    \n",
    "    wallet_labels = []\n",
    "    for link in links:\n",
    "        href = link.get(\"href\")\n",
    "        if href and href.startswith(\"/wallet/\"):\n",
    "            wallet_labels.append(href.removeprefix(\"/wallet/\"))\n",
    "\n",
    "    if wallet_labels:\n",
    "        wallet_data[category_name] = wallet_labels"
   ]
  },
  {
   "cell_type": "code",
   "execution_count": null,
   "id": "a9c4861c",
   "metadata": {},
   "outputs": [],
   "source": [
    "with open(os.path.join(output_path, \"wallets_by_category.json\"), \"w\") as f:\n",
    "    json.dump(wallet_data, f, indent=4)"
   ]
  },
  {
   "cell_type": "code",
   "execution_count": null,
   "id": "223196ba",
   "metadata": {},
   "outputs": [],
   "source": [
    "@dataclasses.dataclass\n",
    "class WalletInfo:\n",
    "    id: str\n",
    "    label: str\n",
    "    address_count: int\n",
    "    added_address_count: int"
   ]
  },
  {
   "cell_type": "code",
   "execution_count": null,
   "id": "fdd3fb74",
   "metadata": {},
   "outputs": [],
   "source": [
    "def get_wallet_addresses(wallet, output_filename):    \n",
    "    url = \"https://www.walletexplorer.com/api/1/wallet-addresses\"\n",
    "    pagination_from = 0\n",
    "    pagination_count = 1000\n",
    "    wallet_info = None\n",
    "    retrieved_addresses_count = 0\n",
    "    \n",
    "    pbar = None\n",
    "    \n",
    "    with open(output_filename, \"a\") as out_f:\n",
    "        while True:\n",
    "            params = {\"wallet\": wallet, \"from\": pagination_from, \"count\": pagination_count}\n",
    "\n",
    "            response = requests.get(url, params=params)\n",
    "            response.raise_for_status()\n",
    "            wallet_info_json = response.json()\n",
    "            \n",
    "            if pagination_from == 0:\n",
    "                wallet_info = WalletInfo(\n",
    "                    id=wallet_info_json.get(\"wallet_id\", \"\"),\n",
    "                    label=wallet_info_json.get(\"label\", \"\"),\n",
    "                    address_count=wallet_info_json.get(\"addresses_count\", 0),\n",
    "                    added_address_count=0\n",
    "                )\n",
    "\n",
    "                pbar = tqdm(total=wallet_info.address_count, desc=f\"Processing wallet: {wallet_info.label}\", position=1, leave=False, bar_format=\"\\u2003\\u2003\\u2003{l_bar}{bar}{r_bar}\", colour=\"orange\")\n",
    "\n",
    "            addresses_info = wallet_info_json.get(\"addresses\", [])\n",
    "            if len(addresses_info) == 0:\n",
    "                break\n",
    "        \n",
    "            for address_info in addresses_info:\n",
    "                pbar.update(1)\n",
    "                address = address_info.get(\"address\")\n",
    "                retrieved_addresses_count += 1\n",
    "                if not address:\n",
    "                    continue\n",
    "                out_f.write(f\"{address}\\t{wallet_info.id}\\n\")\n",
    "                \n",
    "            pagination_from += pagination_count\n",
    "            \n",
    "        wallet_info.added_address_count = retrieved_addresses_count\n",
    "        return wallet_info"
   ]
  },
  {
   "cell_type": "code",
   "execution_count": null,
   "id": "82aed986",
   "metadata": {},
   "outputs": [],
   "source": [
    "# get addresses in each wallet\n",
    "\n",
    "extended_wallet_data = {}\n",
    "addresses_filename = os.path.join(output_path, \"wallet_addresses.tsv\")\n",
    "for category, wallets in wallet_data.items():\n",
    "    extended_wallet_data[category] = []\n",
    "\n",
    "    for wallet in tqdm(wallets, desc=f\"Processing category: {category}\", leave=True, position=0):\n",
    "        wallet_info = get_wallet_addresses(wallet, addresses_filename)            \n",
    "        extended_wallet_data[category].append(dataclasses.asdict(wallet_info))"
   ]
  },
  {
   "cell_type": "code",
   "execution_count": null,
   "id": "c4ea5e3e",
   "metadata": {},
   "outputs": [],
   "source": [
    "with open(os.path.join(output_path, \"extended_wallets_by_category.json\"), \"w\") as f:\n",
    "    json.dump(extended_wallet_data, f, indent=4)"
   ]
  }
 ],
 "metadata": {
  "kernelspec": {
   "display_name": ".venv",
   "language": "python",
   "name": "python3"
  },
  "language_info": {
   "codemirror_mode": {
    "name": "ipython",
    "version": 3
   },
   "file_extension": ".py",
   "mimetype": "text/x-python",
   "name": "python",
   "nbconvert_exporter": "python",
   "pygments_lexer": "ipython3",
   "version": "3.12.3"
  }
 },
 "nbformat": 4,
 "nbformat_minor": 5
}
